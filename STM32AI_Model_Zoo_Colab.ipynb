{
  "cells": [
    {
      "attachments": {},
      "cell_type": "markdown",
      "metadata": {
        "id": "bNkqsp45yZBp"
      },
      "source": [
        "# Notebook to run STM32 model zoo\n",
        "\n",
        "Example with image classification MobileNet v2 0.35 128x128x3 and Flowers dataset"
      ]
    },
    {
      "cell_type": "markdown",
      "metadata": {
        "id": "rKiHGR6AxxQU"
      },
      "source": [
        "## License"
      ]
    },
    {
      "cell_type": "code",
      "execution_count": null,
      "metadata": {
        "id": "pZnZEIvxx9Ge"
      },
      "outputs": [],
      "source": [
        "#   This software component is licensed by ST under BSD-3-Clause license,\n",
        "#   the \"License\"; You may not use this file except in compliance with the\n",
        "#   License. You may obtain a copy of the License at:\n",
        "#             https://opensource.org/licenses/BSD-3-Clause"
      ]
    },
    {
      "cell_type": "markdown",
      "metadata": {
        "id": "lTFGePih6xdp"
      },
      "source": [
        "## Upload model zoo package\n",
        "\n",
        "Clone the repository using the following command:"
      ]
    },
    {
      "cell_type": "code",
      "execution_count": null,
      "metadata": {
        "id": "NFBa0MB26boA"
      },
      "outputs": [],
      "source": [
        "!git clone https://github.com/STMicroelectronics/stm32ai-modelzoo.git"
      ]
    },
    {
      "attachments": {},
      "cell_type": "markdown",
      "metadata": {
        "id": "gJUip3GB67e3"
      },
      "source": [
        "Or, you can upload a lighter version of STM32 model zoo by following these steps:\n",
        "- On your local PC clone STM32AI model zoo git using the following command:\n",
        "```\n",
        "git clone https://github.com/STMicroelectronics/stm32ai-modelzoo.git\n",
        "```\n",
        "- Delete the .git directory.\n",
        "\n",
        "- For image classification use-case, you can keep only the folders 'image_classification/scripts' and 'common/', as well as the file 'requirements.txt', then delete the rest.\n",
        "\n",
        "- Zip the repository as stm32ai-modelzoo.zip, and upload **stm32-modelzoo.zip** in your workspace.\n",
        "\n",
        "- Then uncomment and run the cell below to unzip the folder."
      ]
    },
    {
      "cell_type": "code",
      "execution_count": 3,
      "metadata": {
        "id": "tCixcLxV7zr3"
      },
      "outputs": [],
      "source": [
        "# import zipfile\n",
        "# with zipfile.ZipFile('stm32ai-modelzoo.zip', 'r') as zip_ref:\n",
        "#     zip_ref.extractall('')"
      ]
    },
    {
      "cell_type": "markdown",
      "metadata": {
        "id": "RpPHPEgW-brw"
      },
      "source": [
        "## Package installation"
      ]
    },
    {
      "cell_type": "code",
      "execution_count": null,
      "metadata": {
        "colab": {
          "base_uri": "https://localhost:8080/"
        },
        "id": "g9DQwE8G-hYv",
        "outputId": "8646fcd2-68e2-431a-c3e2-575e7df99caa"
      },
      "outputs": [],
      "source": [
        "!pip install -r stm32ai-modelzoo/requirements.txt"
      ]
    },
    {
      "cell_type": "markdown",
      "metadata": {
        "id": "rQd_peR-8urH"
      },
      "source": [
        "## Go to training section"
      ]
    },
    {
      "cell_type": "code",
      "execution_count": null,
      "metadata": {
        "colab": {
          "base_uri": "https://localhost:8080/"
        },
        "id": "j2stY2Jq8k-X",
        "outputId": "39ce686f-72d1-45b4-952f-bf1f141e435f"
      },
      "outputs": [],
      "source": [
        "%cd stm32ai-modelzoo/image_classification/scripts/training"
      ]
    },
    {
      "attachments": {},
      "cell_type": "markdown",
      "metadata": {
        "id": "PFXdwWJHBin-"
      },
      "source": [
        "## Configure environment variables to access STM32Cube.AI Developer Cloud Services\n",
        "Set environment variables with your credentials to acces STM32Cube.AI Developer Cloud Services.\n",
        "\n",
        "If you don't have an account yet go to: https://stm32ai-cs.st.com/home and click on sign in to create an account. \n",
        "\n",
        "Then set the environment variables below with your credentials.\n"
      ]
    },
    {
      "cell_type": "code",
      "execution_count": null,
      "metadata": {
        "colab": {
          "base_uri": "https://localhost:8080/"
        },
        "id": "u-TXBTDpB6WT",
        "outputId": "a572a3a4-b793-486d-96b9-bb52e94001f1"
      },
      "outputs": [],
      "source": [
        "import getpass\n",
        "import os\n",
        "#Set environment variables with your credentials to acces STM32Cube.AI Developer Cloud Services\n",
        "os.environ['stmai_username'] = 'xxxxxxxx@xxx'\n",
        "print('Enter you password')\n",
        "password = getpass.getpass()\n",
        "os.environ['stmai_password'] = password"
      ]
    },
    {
      "cell_type": "markdown",
      "metadata": {
        "id": "c8eeXs6h9S6s"
      },
      "source": [
        "## Upload a custom dataset\n",
        "\n",
        "The dataset can be uploaded as a zip archive named **dataset.zip** under the directory '/content/stm32ai-modelzoo/image_classification/scripts/training/datasets' (in Colab workspace='/content/').\n",
        "\n",
        "The zip file shall contain a directory named \"dataset\" with one sub-directory per category, with images inside. \n",
        "For instance: \n",
        "```\n",
        "dataset\n",
        "    ├── cats\n",
        "    │   ├── cat0001.jpg\n",
        "    │   ├── cat0002.jpg\n",
        "    │   └── ...\n",
        "    ├── dogs\n",
        "    └── horses\n",
        "```\n",
        "The split between training and validation set is done automatically by the scripts.\n",
        "It is also possible to upload specific training, validation and test set by defining specific path in the user_config.yaml file. \n",
        "\n",
        "You can also start from the flower dataset that can be downloaded directly from tensorflow repository: https://www.tensorflow.org/datasets/catalog/tf_flowers (Creative Commons By-Attribution License 2.0)"
      ]
    },
    {
      "cell_type": "code",
      "execution_count": 5,
      "metadata": {
        "id": "ip04ofreCrYC"
      },
      "outputs": [],
      "source": [
        "dataset_name = 'tf_flowers' #@param [\"custom\", \"tf_flowers\"]"
      ]
    },
    {
      "cell_type": "code",
      "execution_count": null,
      "metadata": {
        "colab": {
          "base_uri": "https://localhost:8080/"
        },
        "id": "Ziql2djEDSM-",
        "outputId": "db930e8a-562c-4699-8c51-665cae3c5d8d",
        "scrolled": true
      },
      "outputs": [],
      "source": [
        "import os\n",
        "import zipfile\n",
        "\n",
        "if dataset_name == 'tf_flowers':\n",
        "  path = 'datasets/flower_photos'\n",
        "  !wget http://download.tensorflow.org/example_images/flower_photos.tgz -P datasets\n",
        "\n",
        "  !7z x datasets/flower_photos.tgz -odatasets\n",
        "  !7z x datasets/flower_photos.tar -odatasets\n",
        "else :\n",
        "  path = 'datasets/dataset'\n",
        "  with zipfile.ZipFile('datasets/dataset.zip', 'r') as zip_ref:\n",
        "    zip_ref.extractall('datasets')\n",
        "\n",
        "class_names = [ name for name in os.listdir(path) if os.path.isdir(os.path.join(path, name)) ]\n",
        "class_names = sorted(class_names)\n",
        "print(f\"Classes: {class_names}\")\n"
      ]
    },
    {
      "cell_type": "markdown",
      "metadata": {
        "id": "zWYVq4vvDwTQ"
      },
      "source": [
        "## Configure the training parameter\n",
        "Modify the training parameters directly in the **user_config.yaml** file.\n",
        "\n",
        "Click on the following link to open the file (in Colab workspace='/content/'): /content/stm32ai-modelzoo/image_classification/scripts/training/user_config.yaml\n",
        "\n",
        "For a custom dataset, in the dataset section modify:\n",
        "*   the name and class_names accordingly.\n",
        "*   training path: training_path: datasets/dataset\n",
        "\n",
        "Then you can tune the other parameters and save the file."
      ]
    },
    {
      "cell_type": "markdown",
      "metadata": {
        "id": "PGRyf--BD_jH"
      },
      "source": [
        "## Train the model\n",
        "\n",
        "Simply execute the train.py scripts"
      ]
    },
    {
      "cell_type": "code",
      "execution_count": null,
      "metadata": {
        "colab": {
          "base_uri": "https://localhost:8080/",
          "height": 1000
        },
        "id": "yodEvVHgEG2k",
        "outputId": "61a5672a-9735-4a0c-94b9-4ec2115ac67d"
      },
      "outputs": [],
      "source": [
        "%run train.py"
      ]
    },
    {
      "cell_type": "markdown",
      "metadata": {
        "id": "eYcsLaTSGi7J"
      },
      "source": [
        "\n",
        "## Results\n",
        "\n",
        "Results are stored under '/content/stm32ai-modelzoo/image_classification/scripts/training/outputs' (in Colab workspace='/content/').\n",
        "\n"
      ]
    },
    {
      "cell_type": "code",
      "execution_count": null,
      "metadata": {
        "colab": {
          "base_uri": "https://localhost:8080/"
        },
        "id": "P_P-e9nc6jdl",
        "outputId": "757dac5a-8caa-4279-93e4-dfff9db614b1"
      },
      "outputs": [],
      "source": [
        "import shutil\n",
        "shutil.make_archive('outputs', 'zip', 'outputs')"
      ]
    },
    {
      "cell_type": "code",
      "execution_count": null,
      "metadata": {
        "colab": {
          "base_uri": "https://localhost:8080/",
          "height": 17
        },
        "id": "n1LUhw2PDbqB",
        "outputId": "ff5481a3-c1e0-4077-f1d5-564f5f69e157"
      },
      "outputs": [],
      "source": [
        "# If running on Colab, run this cell to automatically download the outputs.zip file, else download manually.\n",
        "\n",
        "from google.colab import files\n",
        "files.download('outputs.zip')"
      ]
    }
  ],
  "metadata": {
    "accelerator": "GPU",
    "colab": {
      "provenance": []
    },
    "gpuClass": "standard",
    "kernelspec": {
      "display_name": "Python 3",
      "language": "python",
      "name": "python3"
    },
    "language_info": {
      "codemirror_mode": {
        "name": "ipython",
        "version": 3
      },
      "file_extension": ".py",
      "mimetype": "text/x-python",
      "name": "python",
      "nbconvert_exporter": "python",
      "pygments_lexer": "ipython3",
      "version": "3.11.1 (tags/v3.11.1:a7a450f, Dec  6 2022, 19:58:39) [MSC v.1934 64 bit (AMD64)]"
    },
    "vscode": {
      "interpreter": {
        "hash": "3ca9c95fb3295dba58147778a3f6149a36aba268806f86b68ae4a365fcdcc5ff"
      }
    }
  },
  "nbformat": 4,
  "nbformat_minor": 0
}
